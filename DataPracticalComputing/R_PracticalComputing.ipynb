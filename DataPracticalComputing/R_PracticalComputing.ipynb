{
  "nbformat": 4,
  "nbformat_minor": 0,
  "metadata": {
    "colab": {
      "provenance": []
    },
    "kernelspec": {
      "name": "ir",
      "display_name": "R"
    },
    "language_info": {
      "name": "R"
    }
  },
  "cells": [
    {
      "cell_type": "code",
      "execution_count": 22,
      "metadata": {
        "colab": {
          "base_uri": "https://localhost:8080/"
        },
        "id": "rT6PJALVHuuk",
        "outputId": "9c364fa4-b166-41b4-d987-1ddac0f8e0c7"
      },
      "outputs": [
        {
          "output_type": "stream",
          "name": "stderr",
          "text": [
            "'getOption(\"repos\")' replaces Bioconductor standard repositories, see\n",
            "'?repositories' for details\n",
            "\n",
            "replacement repositories:\n",
            "    CRAN: https://cran.rstudio.com\n",
            "\n",
            "\n",
            "Bioconductor version 3.15 (BiocManager 1.30.18), R 4.2.1 (2022-06-23)\n",
            "\n",
            "Warning message:\n",
            "“package(s) not installed when version(s) same as current; use `force = TRUE` to\n",
            "  re-install: 'recount3'”\n",
            "Old packages: 'curl', 'devtools', 'evaluate', 'gert', 'isoband', 'jsonlite',\n",
            "  'lifecycle', 'purrr', 'rmarkdown', 'roxygen2', 'testthat', 'tibble',\n",
            "  'tidyverse', 'foreign'\n",
            "\n",
            "'getOption(\"repos\")' replaces Bioconductor standard repositories, see\n",
            "'?repositories' for details\n",
            "\n",
            "replacement repositories:\n",
            "    CRAN: https://cran.rstudio.com\n",
            "\n",
            "\n",
            "Bioconductor version 3.15 (BiocManager 1.30.18), R 4.2.1 (2022-06-23)\n",
            "\n",
            "Warning message:\n",
            "“package(s) not installed when version(s) same as current; use `force = TRUE` to\n",
            "  re-install: 'megadepth'”\n",
            "Old packages: 'curl', 'devtools', 'evaluate', 'gert', 'isoband', 'jsonlite',\n",
            "  'lifecycle', 'purrr', 'rmarkdown', 'roxygen2', 'testthat', 'tibble',\n",
            "  'tidyverse', 'foreign'\n",
            "\n"
          ]
        }
      ],
      "source": [
        "if (!requireNamespace(\"BiocManager\", quietly = TRUE))\n",
        "    install.packages(\"BiocManager\")\n",
        "BiocManager::install(\"recount3\")\n",
        "\n",
        "## Load recount3 R package\n",
        "library(\"recount3\")\n",
        "BiocManager::install(\"megadepth\")\n",
        "## Find all available human projects\n"
      ]
    },
    {
      "cell_type": "code",
      "source": [
        "library(\"megadepth\")\n",
        "install_megadepth(force = TRUE)"
      ],
      "metadata": {
        "colab": {
          "base_uri": "https://localhost:8080/"
        },
        "id": "5kBHCkfFNqF5",
        "outputId": "3ea2bb80-9d8f-42b8-8018-d13959127410"
      },
      "execution_count": 28,
      "outputs": [
        {
          "output_type": "stream",
          "name": "stderr",
          "text": [
            "The latest megadepth version is 1.2.0\n",
            "\n",
            "This is not an interactive session, therefore megadepth has been installed temporarily to \n",
            "/tmp/RtmpypueUM/megadepth\n",
            "\n"
          ]
        }
      ]
    },
    {
      "cell_type": "code",
      "source": [
        "example_bw <- file.path(\"/content/K562.bigWig\")\n",
        "\n",
        "annotation_file <- file.path(\"/content/K562_H3K4Me3.bed\"\n",
        ")\n",
        "\n",
        "\n"
      ],
      "metadata": {
        "id": "euMaurp9HwMP"
      },
      "execution_count": 117,
      "outputs": []
    },
    {
      "cell_type": "code",
      "source": [
        "bw_cov <- get_coverage(\n",
        "    example_bw,\n",
        "    op = \"mean\",\n",
        "    annotation = annotation_file\n",
        ")\n",
        "bw_cov"
      ],
      "metadata": {
        "colab": {
          "base_uri": "https://localhost:8080/",
          "height": 358
        },
        "id": "BUKpCEyrNOhB",
        "outputId": "6fc93e5d-1b35-41c8-ec8c-349dbdcb5265"
      },
      "execution_count": 118,
      "outputs": [
        {
          "output_type": "stream",
          "name": "stderr",
          "text": [
            "Warning message in system2(find_megadepth(), ...):\n",
            "“running command ''/tmp/RtmpypueUM/megadepth' /content/K562.bigWig --op mean --annotation /content/K562_H3K4Me3.bed --prefix /tmp/RtmpypueUM/bw.mean --no-annotation-stdout' had status 255”\n"
          ]
        },
        {
          "output_type": "display_data",
          "data": {
            "text/plain": [
              "GRanges object with 12028 ranges and 1 metadata column:\n",
              "          seqnames            ranges strand |     score\n",
              "             <Rle>         <IRanges>  <Rle> | <numeric>\n",
              "      [1]     chr7 92604911-92604936      * |      1.16\n",
              "      [2]     chr7 92604936-92605036      * |      2.25\n",
              "      [3]     chr7 92605036-92605061      * |      3.68\n",
              "      [4]     chr7 92604911-92604936      * |      1.16\n",
              "      [5]     chr7 92604936-92605011      * |      1.91\n",
              "      ...      ...               ...    ... .       ...\n",
              "  [12024]     chr7 92836511-92836536      * |      9.72\n",
              "  [12025]     chr7 92836536-92836561      * |      7.00\n",
              "  [12026]     chr7 92836536-92836561      * |      7.00\n",
              "  [12027]     chr7 92836561-92836586      * |      6.56\n",
              "  [12028]     chr7 92836561-92836586      * |      6.56\n",
              "  -------\n",
              "  seqinfo: 1 sequence from an unspecified genome; no seqlengths"
            ]
          },
          "metadata": {}
        }
      ]
    },
    {
      "cell_type": "code",
      "source": [
        "df <- data.frame(seqnames=seqnames(bw_cov),\n",
        "  starts=start(bw_cov)-1,\n",
        "  ends=end(bw_cov),\n",
        "  #names=c(rep(\".\", length(bw_cov))),\n",
        "  scores=elementMetadata(bw_cov)$score,\n",
        "  strands=strand(bw_cov))\n",
        "\n",
        "write.table(df, file=\"/content/KRAS_H3K4Me3_Coverage.bed\", quote=F, sep=\"\\t\", row.names=F, col.names=F)"
      ],
      "metadata": {
        "id": "iJC7v3l7NdSh"
      },
      "execution_count": 119,
      "outputs": []
    },
    {
      "cell_type": "code",
      "source": [],
      "metadata": {
        "id": "zF6z-SP_1MWB"
      },
      "execution_count": null,
      "outputs": []
    }
  ]
}